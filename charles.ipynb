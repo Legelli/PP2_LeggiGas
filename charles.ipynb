{
 "cells": [
  {
   "cell_type": "code",
   "execution_count": 157,
   "metadata": {
    "collapsed": true
   },
   "outputs": [],
   "source": [
    "from pylab import *\n",
    "from io import StringIO\n",
    "import numpy\n",
    "from scipy.optimize import curve_fit\n",
    "%matplotlib inline"
   ]
  },
  {
   "cell_type": "code",
   "execution_count": 158,
   "metadata": {},
   "outputs": [],
   "source": [
    "#Carico i file\n",
    "\n",
    "s = open(\"pressione_13.txt\").read()\n",
    "t,P = transpose(loadtxt(StringIO(s)))\n",
    "s = open(\"temperatura_13.txt\").read()\n",
    "t,T = transpose(loadtxt(StringIO(s)))\n",
    "s = open(\"posizione_13.txt\").read()\n",
    "t,L = transpose(loadtxt(StringIO(s)))"
   ]
  },
  {
   "cell_type": "code",
   "execution_count": 159,
   "metadata": {},
   "outputs": [],
   "source": [
    "#Calcolo le grandezze di interesse\n",
    "P = P * 1000\n",
    "V = L * (32.5/2000)**2 * pi *10**6\n",
    "T = T + 273.15\n",
    "\n",
    "DV = V - min(V)\n",
    "DT = T - min(T)"
   ]
  },
  {
   "cell_type": "code",
   "execution_count": 160,
   "metadata": {},
   "outputs": [
    {
     "data": {
      "text/plain": [
       "[<matplotlib.lines.Line2D at 0x1512274278>]"
      ]
     },
     "execution_count": 160,
     "metadata": {},
     "output_type": "execute_result"
    },
    {
     "data": {
      "image/png": "[encoded data removed]",
      "text/plain": [
       "<matplotlib.figure.Figure at 0x151366fd30>"
      ]
     },
     "metadata": {},
     "output_type": "display_data"
    }
   ],
   "source": [
    "#Genero il grafico preliminare\n",
    "\n",
    "plot(DT,DV)"
   ]
  },
  {
   "cell_type": "code",
   "execution_count": 161,
   "metadata": {},
   "outputs": [
    {
     "data": {
      "text/plain": [
       "[<matplotlib.lines.Line2D at 0x1511bc2e10>]"
      ]
     },
     "execution_count": 161,
     "metadata": {},
     "output_type": "execute_result"
    },
    {
     "data": {
      "image/png": "[encoded data removed]",
      "text/plain": [
       "<matplotlib.figure.Figure at 0x1109bc4e0>"
      ]
     },
     "metadata": {},
     "output_type": "display_data"
    }
   ],
   "source": [
    "#Pulisco il grafico\n",
    "DVpulito = DV[(DV>0.4)&(DT<2)]\n",
    "DTpulito = DT[(DV>0.4)&(DT<2)]\n",
    "\n",
    "plot (DTpulito[::100], DVpulito[::100], \"o\", label='dati')"
   ]
  },
  {
   "cell_type": "code",
   "execution_count": 182,
   "metadata": {},
   "outputs": [
    {
     "name": "stdout",
     "output_type": "stream",
     "text": [
      "m= 0.384676845381 +/- 1.03359042122e-06\n",
      "q= 0.448599636871 +/- 9.89764215765e-07\n",
      "dm= 0.0113890950062\n"
     ]
    },
    {
     "data": {
      "image/png": "[encoded data removed]",
      "text/plain": [
       "<matplotlib.figure.Figure at 0x151392bfd0>"
      ]
     },
     "metadata": {},
     "output_type": "display_data"
    }
   ],
   "source": [
    "#Produco il fit lineare\n",
    "def retta(x, m, q):\n",
    "    return m*x+q\n",
    "\n",
    "sigma_V = DVpulito - DVpulito + 0.4\n",
    "x = numpy.linspace(min(DTpulito), max(DTpulito), 200)\n",
    "fitPar, fitErrors = curve_fit(retta, DTpulito, DVpulito, sigma=sigma_V)\n",
    "\n",
    "print(\"m=\", fitPar[0], \"+/-\", fitErrors[0,0])\n",
    "print(\"q=\", fitPar[1], \"+/-\", fitErrors[1,1])\n",
    "xlabel(\"DT [$\\mathrm{K}$]\")\n",
    "ylabel(\"DV [$\\mathrm{cm}^3$]\")\n",
    "\n",
    "errorbar(DTpulito[::100], DVpulito[::100], yerr=0.4, fmt=\"o\")\n",
    "plot(x, x*fitPar[0]+fitPar[1], \"-\")\n",
    "\n",
    "savefig(\"charles.pdf\", bbox_inches='tight')\n",
    "\n",
    "#Calcolo l'incertezza sul coefficiente angolare\n",
    "x2medio = 0\n",
    "xmedio2 = 0\n",
    "j = 0\n",
    "for x in DTpulito:\n",
    "    x2medio = x2medio + x*x\n",
    "    xmedio2 = xmedio2 +x\n",
    "    j = j+1\n",
    "x2medio = x2medio / j\n",
    "xmedio2 = (xmedio2/ j)**2\n",
    "\n",
    "\n",
    "varM = (len(DVpulito)*(x2medio - xmedio2)/(0.4**2))**(-1)\n",
    "print(\"dm=\", sqrt(varM))"
   ]
  },
  {
   "cell_type": "code",
   "execution_count": 183,
   "metadata": {},
   "outputs": [
    {
     "name": "stdout",
     "output_type": "stream",
     "text": [
      "0.00011667603473292231\n",
      "T0= 297.183431 +/- 0.013443\n",
      "N_attese= 0.00477174710544\n",
      "n= 0.00467537441438 +/- 0.000138423417043\n"
     ]
    }
   ],
   "source": [
    "#Numero di moli attese\n",
    "P0 = 1.01*10**5\n",
    "R = 8.31\n",
    "V0 = 8.93*10**(-5)+0.033*pi*(32.5/2000)**2\n",
    "print(V0)\n",
    "T0 = mean(T[:10])\n",
    "deltaT0 = std(T[:10])\n",
    "print(\"T0=\", T0, \"+/-\", deltaT0)\n",
    "n_attese = P0 * V0 / (R * T0)\n",
    "print(\"N_attese=\", n_attese)\n",
    "\n",
    "#Calcolo il numero di moli a partire dal risultato del fit\n",
    "m = fitPar[0]\n",
    "n = m*10**(-6) * P0 / R\n",
    "deltam = fitErrors[0,0]\n",
    "deltan = n * sqrt((sqrt(varM)/m)**2)\n",
    "print(\"n=\", n, \"+/-\", deltan)"
   ]
  },
  {
   "cell_type": "code",
   "execution_count": 164,
   "metadata": {},
   "outputs": [
    {
     "name": "stdout",
     "output_type": "stream",
     "text": [
      "4.0000000000000003e-07\n",
      "2.67578202515e+13\n",
      "Gradi di liberta' 3359\n"
     ]
    }
   ],
   "source": [
    "chi2 = 0\n",
    "i = 0\n",
    "deltay= 0.04*10**(-5)\n",
    "print(deltay)\n",
    "for y in DVpulito:\n",
    "    chi2 = chi2 + (y - fitPar[0]*DTpulito[i] - fitPar[1])**2/(deltay**2)\n",
    "    i = i+1\n",
    "\n",
    "print(chi2)\n",
    "print(\"Gradi di liberta'\", i-1)"
   ]
  },
  {
   "cell_type": "code",
   "execution_count": 185,
   "metadata": {},
   "outputs": [
    {
     "data": {
      "text/plain": [
       "[<matplotlib.lines.Line2D at 0x151420c198>]"
      ]
     },
     "execution_count": 185,
     "metadata": {},
     "output_type": "execute_result"
    },
    {
     "data": {
      "image/png": "[encoded data removed]",
      "text/plain": [
       "<matplotlib.figure.Figure at 0x15140a3438>"
      ]
     },
     "metadata": {},
     "output_type": "display_data"
    }
   ],
   "source": [
    "plot(t[(DV>0.4)&(DT<2)], DTpulito)"
   ]
  },
  {
   "cell_type": "code",
   "execution_count": null,
   "metadata": {
    "collapsed": true
   },
   "outputs": [],
   "source": []
  },
  {
   "cell_type": "code",
   "execution_count": null,
   "metadata": {
    "collapsed": true
   },
   "outputs": [],
   "source": []
  }
 ],
 "metadata": {
  "kernelspec": {
   "display_name": "Python 3",
   "language": "python",
   "name": "python3"
  },
  "language_info": {
   "codemirror_mode": {
    "name": "ipython",
    "version": 3
   },
   "file_extension": ".py",
   "mimetype": "text/x-python",
   "name": "python",
   "nbconvert_exporter": "python",
   "pygments_lexer": "ipython3",
   "version": "3.6.2"
  }
 },
 "nbformat": 4,
 "nbformat_minor": 2
}
